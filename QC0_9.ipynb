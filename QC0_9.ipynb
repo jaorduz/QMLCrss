{
 "cells": [
  {
   "cell_type": "markdown",
   "metadata": {},
   "source": [
    "# Basics on Python and Quantum Computing\n",
    "###### By: J. A. Orduz-Ducuara"
   ]
  },
  {
   "cell_type": "markdown",
   "metadata": {},
   "source": [
    "## Regression with data!"
   ]
  },
  {
   "cell_type": "markdown",
   "metadata": {},
   "source": [
    "To measure the elapsed time. "
   ]
  },
  {
   "cell_type": "code",
   "execution_count": 1,
   "metadata": {},
   "outputs": [],
   "source": [
    "import time "
   ]
  },
  {
   "cell_type": "code",
   "execution_count": 2,
   "metadata": {},
   "outputs": [],
   "source": [
    "start_time = time.time()"
   ]
  },
  {
   "cell_type": "code",
   "execution_count": 3,
   "metadata": {},
   "outputs": [],
   "source": [
    "from platform import python_version\n",
    "import pennylane as qml\n",
    "from pennylane import numpy as np\n",
    "import matplotlib.pyplot as plt\n",
    "import pandas as pd"
   ]
  },
  {
   "cell_type": "markdown",
   "metadata": {},
   "source": [
    "# data"
   ]
  },
  {
   "cell_type": "code",
   "execution_count": 4,
   "metadata": {},
   "outputs": [
    {
     "data": {
      "text/plain": [
       "pandas.core.frame.DataFrame"
      ]
     },
     "execution_count": 4,
     "metadata": {},
     "output_type": "execute_result"
    }
   ],
   "source": [
    "df_sgnl=pd.read_csv(\"data/data2.csv\")\n",
    "type(df_sgnl)"
   ]
  },
  {
   "cell_type": "code",
   "execution_count": 5,
   "metadata": {},
   "outputs": [
    {
     "data": {
      "text/plain": [
       "numpy.ndarray"
      ]
     },
     "execution_count": 5,
     "metadata": {},
     "output_type": "execute_result"
    }
   ],
   "source": [
    "n_samples=500\n",
    "np_Array_signal = df_sgnl[0:n_samples].to_numpy()\n",
    "type(np_Array_signal)"
   ]
  },
  {
   "cell_type": "code",
   "execution_count": 6,
   "metadata": {},
   "outputs": [],
   "source": [
    "t_0_pT=np_Array_signal[:,[0,1]] # h_tt_pT, h_tt_eta"
   ]
  },
  {
   "cell_type": "code",
   "execution_count": 7,
   "metadata": {},
   "outputs": [
    {
     "data": {
      "image/png": "[encoded data removed]",
      "text/plain": [
       "<Figure size 432x288 with 1 Axes>"
      ]
     },
     "metadata": {
      "needs_background": "light"
     },
     "output_type": "display_data"
    }
   ],
   "source": [
    "plt.plot(np.array(t_0_pT[:,[0]]),np.array(t_0_pT[:,[1]])) \n",
    "plt.show()"
   ]
  },
  {
   "cell_type": "code",
   "execution_count": 8,
   "metadata": {},
   "outputs": [
    {
     "data": {
      "text/plain": [
       "<matplotlib.collections.PathCollection at 0x286550ed7c8>"
      ]
     },
     "execution_count": 8,
     "metadata": {},
     "output_type": "execute_result"
    },
    {
     "data": {
      "image/png": "[encoded data removed]",
      "text/plain": [
       "<Figure size 432x288 with 1 Axes>"
      ]
     },
     "metadata": {
      "needs_background": "light"
     },
     "output_type": "display_data"
    }
   ],
   "source": [
    "samples = 500\n",
    "size = 1.5\n",
    "step = 1E-1\n",
    "xs = t_0_pT[:,[0]]\n",
    "ys = t_0_pT[:,[1]] \n",
    "\n",
    "def f(x):\n",
    "    return  np.sin(x)\n",
    "#    return  x + 1\n",
    "\n",
    "xs = np.arange(-size, size + step, step)\n",
    "ys = list(map(f,xs))\n",
    "\n",
    "plt.plot(xs,ys, color = \"salmon\")\n",
    "plt.scatter(xs,ys)\n"
   ]
  },
  {
   "cell_type": "markdown",
   "metadata": {},
   "source": [
    "We implement two single gates:\n",
    "\n",
    "\\begin{equation}\n",
    "R_Y = \n",
    "e^{-i\\phi\\sigma_x/2}=\n",
    "\\begin{pmatrix}\n",
    "\\cos{\\phi/2}& -i \\sin{\\phi/2}\\\\\n",
    "-i\\sin{\\phi/2} & \\cos{\\phi/2}\n",
    "\\end{pmatrix}\n",
    "\\end{equation}\n",
    "\n",
    "We used $U_3$ gate, it is associated to single-qubit rotation $,R(\\delta, \\theta, -\\delta),$ and phase shift given by $R_\\phi(\\phi+\\delta).$\n",
    "\\begin{equation}\n",
    "U_3(\\theta, \\phi, \\delta) = R_\\phi(\\phi+\\delta) R(\\delta, \\theta, -\\delta) = \n",
    "\\begin{pmatrix}\n",
    "\\cos{\\theta/2}& -e^{i \\delta} \\sin{\\theta/2}\\\\\n",
    "e^{i \\phi} \\sin{\\theta/2} & e^{i (\\phi + \\delta)} \\cos{\\theta/2}\n",
    "\\end{pmatrix}\n",
    "\\end{equation}\n",
    "where $\\theta$ is the polar angle, $\\phi$ labels azimuthal angle, and $\\delta$ is a quantum phase."
   ]
  },
  {
   "cell_type": "code",
   "execution_count": 9,
   "metadata": {},
   "outputs": [],
   "source": [
    "dev = qml.device(\"default.qubit\", wires = 1)\n",
    "\n",
    "@qml.qnode(dev)\n",
    "def circuit(theta0, x):\n",
    "    qml.RY(theta0*x, wires = 0)\n",
    "    qml.U3(theta0,x,np.pi, wires = 0)\n",
    "    return qml.expval(qml.PauliZ(wires = 0))\n",
    "\n",
    "def q_model(theta0, theta1, theta2, x):\n",
    "    return circuit(theta0, x) * theta1 + theta2\n",
    "\n",
    "def q_error(theta0, theta1, theta2):\n",
    "    er = 0\n",
    "    for x, y in zip(xs, ys):\n",
    "        er += (q_model(theta0, theta1, theta2, x) - y) ** 2\n",
    "    return np.sqrt(er) / len(xs)"
   ]
  },
  {
   "cell_type": "code",
   "execution_count": 15,
   "metadata": {},
   "outputs": [
    {
     "name": "stdout",
     "output_type": "stream",
     "text": [
      "0: ──RY(0.10)──U3(0.20,0.50,3.14)─┤  <Z>\n"
     ]
    }
   ],
   "source": [
    "print(qml.draw(circuit)(0.2, 0.5)) # random numbers"
   ]
  },
  {
   "cell_type": "code",
   "execution_count": 16,
   "metadata": {},
   "outputs": [
    {
     "data": {
      "image/png": "[encoded data removed]",
      "text/plain": [
       "<Figure size 360x144 with 1 Axes>"
      ]
     },
     "metadata": {},
     "output_type": "display_data"
    }
   ],
   "source": [
    "import matplotlib.pyplot as plt\n",
    "fig, ax = qml.draw_mpl(circuit)(0.2,0.5)\n",
    "plt.show()"
   ]
  },
  {
   "cell_type": "code",
   "execution_count": 12,
   "metadata": {},
   "outputs": [
    {
     "name": "stdout",
     "output_type": "stream",
     "text": [
      "epoch 0 loss 0.15149951919867477 Time 00:00:03\n",
      "epoch 20 loss 0.09681307919819725 Time 00:00:06\n",
      "epoch 40 loss 0.06319439329144023 Time 00:00:09\n",
      "epoch 60 loss 0.0360543241292877 Time 00:00:12\n",
      "epoch 80 loss 0.026165487801314793 Time 00:00:15\n",
      "epoch 100 loss 0.02441754899419944 Time 00:00:19\n"
     ]
    }
   ],
   "source": [
    "theta0, theta1, theta2 = np.random.rand(3)\n",
    "gradient_fn_theta = qml.grad(q_error, argnum = [0,1,2])\n",
    "\n",
    "lr = 0.1\n",
    "\n",
    "for epoch in range(101):\n",
    "    gradiente = gradient_fn_theta(theta0, theta1, theta2)\n",
    "    theta0 = theta0 - lr*gradiente[0] \n",
    "    theta1 = theta1 - lr*gradiente[1]\n",
    "    theta2 = theta2 - lr*gradiente[2] \n",
    "    if epoch % 20 == 0:\n",
    "        print(\"epoch\", epoch, \"loss\", q_error(theta0, theta1, theta2),\"Time\",time.strftime(\"%H:%M:%S\",time.gmtime(time.time() - start_time)))\n",
    "        "
   ]
  },
  {
   "cell_type": "code",
   "execution_count": 13,
   "metadata": {},
   "outputs": [
    {
     "data": {
      "image/png": "[encoded data removed]",
      "text/plain": [
       "<Figure size 432x288 with 1 Axes>"
      ]
     },
     "metadata": {
      "needs_background": "light"
     },
     "output_type": "display_data"
    }
   ],
   "source": [
    "def q_solution(x):\n",
    "    return circuit(theta0, x) * theta1 + theta2\n",
    "\n",
    "ys2 = list(map(q_solution, xs))\n",
    "\n",
    "\n",
    "plt.plot(xs,ys, color = \"red\", label = \"classical\")\n",
    "plt.plot(xs, ys2, \"blue\", label = \"quantum\")\n",
    "plt.scatter(xs,ys)\n",
    "plt.ylabel(\"y\")\n",
    "plt.xlabel(\"x\")\n",
    "plt.title('Model regression')\n",
    "plt.legend(loc='upper center', ncol=2, shadow=True)\n",
    "plt.savefig('figs/RegreFuncTwogates.png', format='png',bbox_inches='tight',dpi=400)\n",
    "plt.show()"
   ]
  },
  {
   "cell_type": "markdown",
   "metadata": {},
   "source": [
    "# Versions"
   ]
  },
  {
   "cell_type": "code",
   "execution_count": 14,
   "metadata": {},
   "outputs": [
    {
     "name": "stdout",
     "output_type": "stream",
     "text": [
      "python version:  3.7.9\n",
      "pennylane version:  0.23.1\n"
     ]
    }
   ],
   "source": [
    "print(\"python version: \", python_version())\n",
    "print(\"pennylane version: \", qml.__version__)"
   ]
  },
  {
   "cell_type": "markdown",
   "metadata": {},
   "source": [
    "# References"
   ]
  },
  {
   "cell_type": "markdown",
   "metadata": {},
   "source": [
    "\n",
    "1. Qiskit tutorial: https://tinyurl.com/y6mh4bq8"
   ]
  }
 ],
 "metadata": {
  "interpreter": {
   "hash": "67c6e30cc51eeb2c63ed190c851214ed4edf2b99efcdbee63e8aad06437ac09b"
  },
  "kernelspec": {
   "display_name": "Python 3.7.9 ('myEnvPy37')",
   "language": "python",
   "name": "python3"
  },
  "language_info": {
   "codemirror_mode": {
    "name": "ipython",
    "version": 3
   },
   "file_extension": ".py",
   "mimetype": "text/x-python",
   "name": "python",
   "nbconvert_exporter": "python",
   "pygments_lexer": "ipython3",
   "version": "3.7.9"
  }
 },
 "nbformat": 4,
 "nbformat_minor": 2
}
