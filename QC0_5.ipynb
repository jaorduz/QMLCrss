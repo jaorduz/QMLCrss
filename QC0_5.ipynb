{
 "cells": [
  {
   "cell_type": "markdown",
   "metadata": {},
   "source": [
    "# Basics on Python and Quantum Computing\n",
    "###### By: J. A. Orduz-Ducuara"
   ]
  },
  {
   "cell_type": "markdown",
   "metadata": {},
   "source": [
    "## Regression with data!"
   ]
  },
  {
   "cell_type": "markdown",
   "metadata": {},
   "source": [
    "To measure the elapsed time. "
   ]
  },
  {
   "cell_type": "code",
   "execution_count": 1,
   "metadata": {},
   "outputs": [],
   "source": [
    "import time "
   ]
  },
  {
   "cell_type": "code",
   "execution_count": 2,
   "metadata": {},
   "outputs": [],
   "source": [
    "start_time = time.time()"
   ]
  },
  {
   "cell_type": "code",
   "execution_count": 3,
   "metadata": {},
   "outputs": [],
   "source": [
    "from platform import python_version\n",
    "import pennylane as qml\n",
    "from pennylane import numpy as np\n",
    "import matplotlib.pyplot as plt\n",
    "import pandas as pd"
   ]
  },
  {
   "cell_type": "markdown",
   "metadata": {},
   "source": [
    "# data"
   ]
  },
  {
   "cell_type": "code",
   "execution_count": 4,
   "metadata": {},
   "outputs": [
    {
     "data": {
      "text/plain": [
       "pandas.core.frame.DataFrame"
      ]
     },
     "execution_count": 4,
     "metadata": {},
     "output_type": "execute_result"
    }
   ],
   "source": [
    "df_sgnl=pd.read_csv(\"data/signal.csv\")\n",
    "type(df_sgnl)"
   ]
  },
  {
   "cell_type": "code",
   "execution_count": 5,
   "metadata": {},
   "outputs": [
    {
     "data": {
      "text/plain": [
       "numpy.ndarray"
      ]
     },
     "execution_count": 5,
     "metadata": {},
     "output_type": "execute_result"
    }
   ],
   "source": [
    "n_samples=100\n",
    "np_Array_signal = df_sgnl[0:n_samples].to_numpy()\n",
    "type(np_Array_signal)"
   ]
  },
  {
   "cell_type": "code",
   "execution_count": 14,
   "metadata": {},
   "outputs": [
    {
     "data": {
      "text/plain": [
       "array([[ 8.31999063e-01,  1.79392931e+02],\n",
       "       [-3.09964776e+00,  1.86577419e+02],\n",
       "       [ 2.10416174e+00,  7.21327730e+01],\n",
       "       [ 2.66286087e+00,  1.35936695e+02],\n",
       "       [-2.33815002e+00,  1.70079288e+02],\n",
       "       [ 2.11393261e+00,  1.37964317e+02],\n",
       "       [-1.42016196e+00,  1.69958552e+02],\n",
       "       [ 1.02950072e+00,  1.78764436e+02],\n",
       "       [-6.51009858e-01,  2.15080514e+02],\n",
       "       [-6.43258393e-01,  1.34423654e+02],\n",
       "       [ 3.10894752e+00,  1.83562699e+02],\n",
       "       [-3.12625551e+00,  2.83008718e+02],\n",
       "       [-1.74350834e+00,  5.07318094e+01],\n",
       "       [-1.23645651e+00,  2.66083071e+02],\n",
       "       [-5.85512042e-01,  6.85075681e+01],\n",
       "       [ 1.77542400e+00,  2.33375450e+02],\n",
       "       [ 3.04558468e+00,  9.26771055e+01],\n",
       "       [-3.13470936e+00,  1.75231487e+02],\n",
       "       [ 1.77064300e+00,  2.46149818e+02],\n",
       "       [-3.46494168e-01,  1.32647146e+02],\n",
       "       [ 7.54814744e-01,  1.84710333e+02],\n",
       "       [-2.24453044e+00,  3.04979784e+02],\n",
       "       [-3.13119674e+00,  3.44060342e+01],\n",
       "       [-6.51719153e-01,  1.36086913e+02],\n",
       "       [ 1.26002312e+00,  6.75013768e+01],\n",
       "       [-2.44654155e+00,  9.08667884e+01],\n",
       "       [ 2.98881221e+00,  2.11195972e+02],\n",
       "       [-1.58872390e+00,  1.16786085e+02],\n",
       "       [-2.41800618e+00,  2.31406618e+02],\n",
       "       [ 1.78322148e+00,  1.66257216e+02],\n",
       "       [-2.76257229e+00,  2.45197369e+02],\n",
       "       [ 1.66786849e+00,  9.54249035e+01],\n",
       "       [-1.03636515e+00,  1.51210213e+02],\n",
       "       [-1.35639703e+00,  9.67232796e+01],\n",
       "       [ 1.60867703e+00,  1.11276530e+02],\n",
       "       [-1.05749750e+00,  1.09954874e+02],\n",
       "       [-8.27382624e-01,  1.85745532e+02],\n",
       "       [-1.93813813e+00,  1.38475486e+02],\n",
       "       [ 1.21297646e+00,  2.66805607e+02],\n",
       "       [-3.11298561e+00,  2.21081843e+02],\n",
       "       [-2.80978012e+00,  1.22115120e+02],\n",
       "       [-1.45392275e+00,  1.21217268e+02],\n",
       "       [ 6.24559045e-01,  5.43586936e+02],\n",
       "       [-7.59107947e-01,  1.15575904e+02],\n",
       "       [ 9.34706450e-01,  3.97361061e+02],\n",
       "       [-1.90926063e+00,  1.96074793e+02],\n",
       "       [-9.63720500e-01,  8.42245599e+01],\n",
       "       [-1.93766356e+00,  1.73019131e+02],\n",
       "       [ 4.74358559e-01,  2.24662708e+02],\n",
       "       [ 2.18411177e-01,  2.57858361e+02],\n",
       "       [ 3.05899048e+00,  1.36738636e+02],\n",
       "       [ 1.08513641e+00,  1.84975333e+02],\n",
       "       [-1.50509548e+00,  1.21563802e+02],\n",
       "       [ 1.64663643e-01,  6.64967572e+01],\n",
       "       [ 1.96148944e+00,  1.54254473e+02],\n",
       "       [-1.29821336e+00,  1.84689644e+02],\n",
       "       [ 1.54713583e+00,  1.35860838e+02],\n",
       "       [-1.71395636e+00,  3.98520605e+02],\n",
       "       [ 1.75292846e-02,  1.05866461e+02],\n",
       "       [-9.01716113e-01,  2.00481892e+02],\n",
       "       [-1.34126115e+00,  3.69641913e+02],\n",
       "       [ 2.46494532e+00,  1.87121512e+02],\n",
       "       [-8.89829874e-01,  2.18643316e+02],\n",
       "       [-9.00821090e-01,  4.68016329e+01],\n",
       "       [ 2.29649758e+00,  1.06394551e+02],\n",
       "       [ 2.42343140e+00,  2.83837730e+02],\n",
       "       [-1.54845345e+00,  1.72403718e+02],\n",
       "       [ 1.42002165e+00,  2.02813666e+02],\n",
       "       [ 2.30786109e+00,  3.46729874e+02],\n",
       "       [-2.19082904e+00,  3.18660505e+02],\n",
       "       [ 4.98499423e-01,  1.38675560e+02],\n",
       "       [-2.50949574e+00,  2.80926068e+02],\n",
       "       [-2.04274940e+00,  1.52489285e+02],\n",
       "       [-1.12033176e+00,  2.01493233e+02],\n",
       "       [-1.30791521e+00,  2.55627802e+02],\n",
       "       [ 3.01296735e+00,  9.91857678e+01],\n",
       "       [ 2.22783709e+00,  2.06357973e+02],\n",
       "       [-2.97828674e+00,  2.44103648e+02],\n",
       "       [ 1.47075522e+00,  6.26469938e+01],\n",
       "       [-1.86801052e+00,  8.63316995e+01],\n",
       "       [ 1.21758366e+00,  2.88434981e+02],\n",
       "       [ 2.14845538e+00,  2.70477528e+02],\n",
       "       [-6.58757269e-01,  3.91232041e+02],\n",
       "       [ 2.90153313e+00,  2.15092951e+02],\n",
       "       [-9.34752047e-01,  9.57341126e+01],\n",
       "       [-6.98096871e-01,  9.38917087e+01],\n",
       "       [-8.70197475e-01,  1.94830283e+02],\n",
       "       [ 2.42955709e+00,  2.62191463e+02],\n",
       "       [ 2.00255409e-01,  1.88843540e+02],\n",
       "       [-1.06138289e+00,  3.59420052e+02],\n",
       "       [-3.13211679e+00,  3.75403504e+02],\n",
       "       [-4.08272475e-01,  2.91842393e+02],\n",
       "       [-1.96269679e+00,  1.75206063e+02],\n",
       "       [-8.79117250e-01,  1.78747027e+02],\n",
       "       [ 3.96871984e-01,  1.31678007e+02],\n",
       "       [ 7.43645072e-01,  8.18478855e+01],\n",
       "       [-2.28114629e+00,  1.80282619e+02],\n",
       "       [-3.29585463e-01,  1.08517295e+02],\n",
       "       [ 1.26934373e+00,  9.05901313e+00],\n",
       "       [ 2.27313876e+00,  1.34436320e+02]])"
      ]
     },
     "execution_count": 14,
     "metadata": {},
     "output_type": "execute_result"
    }
   ],
   "source": [
    "t_0_pT=np_Array_signal[:,[18,19]] # h_tt_pT, h_tt_eta\n",
    "t_0_pT"
   ]
  },
  {
   "cell_type": "code",
   "execution_count": 7,
   "metadata": {},
   "outputs": [
    {
     "data": {
      "text/plain": [
       "<matplotlib.collections.PathCollection at 0x1ffc44f8308>"
      ]
     },
     "execution_count": 7,
     "metadata": {},
     "output_type": "execute_result"
    },
    {
     "data": {
      "image/png": "[encoded data removed]",
      "text/plain": [
       "<Figure size 432x288 with 1 Axes>"
      ]
     },
     "metadata": {
      "needs_background": "light"
     },
     "output_type": "display_data"
    }
   ],
   "source": [
    "samples = 100\n",
    "size = 1.5\n",
    "step = 0.2\n",
    "xs = t_0_pT[:,[0]]\n",
    "ys = t_0_pT[:,[1]] \n",
    "     \n",
    "def f(x):\n",
    "    return np.sin(x ** 2) \n",
    "\n",
    "xs = np.arange(-size, size + step, step)\n",
    "ys = list(map(f,xs))\n",
    "\n",
    "plt.plot(xs,ys, color = \"salmon\")\n",
    "plt.scatter(xs,ys)\n",
    "\n"
   ]
  },
  {
   "cell_type": "code",
   "execution_count": 8,
   "metadata": {},
   "outputs": [],
   "source": [
    "dev = qml.device(\"default.qubit\", wires = 1)\n",
    "\n",
    "@qml.qnode(dev)\n",
    "def circuit(theta0, x):\n",
    "    qml.RY(theta0 * x, wires = 0)\n",
    "    return qml.expval(qml.PauliZ(wires = 0))\n",
    "\n",
    "def q_model(theta0, theta1, theta2, x):\n",
    "    return circuit(theta0, x) * theta1 + theta2\n",
    "\n",
    "def q_error(theta0, theta1, theta2):\n",
    "    er = 0\n",
    "    for x, y in zip(xs, ys):\n",
    "        er += (q_model(theta0, theta1, theta2, x) - y) ** 2\n",
    "    return np.sqrt(er) / len(xs)\n",
    "\n"
   ]
  },
  {
   "cell_type": "code",
   "execution_count": 9,
   "metadata": {},
   "outputs": [],
   "source": [
    "#  basis_state = [0, 1]\n",
    "#  print(circuit(basis_state,1)) "
   ]
  },
  {
   "cell_type": "code",
   "execution_count": 10,
   "metadata": {},
   "outputs": [],
   "source": [
    "  \n",
    "  # print(qml.draw(circuit)(basis_state,x))"
   ]
  },
  {
   "cell_type": "code",
   "execution_count": 11,
   "metadata": {},
   "outputs": [
    {
     "name": "stdout",
     "output_type": "stream",
     "text": [
      "epoch 0 loss 0.33496301583505206 Time 00:00:04\n",
      "epoch 20 loss 0.05760506681040814 Time 00:00:05\n",
      "epoch 40 loss 0.012355350879020881 Time 00:00:06\n",
      "epoch 60 loss 0.011684686993418361 Time 00:00:07\n",
      "epoch 80 loss 0.014838735566657832 Time 00:00:08\n",
      "epoch 100 loss 0.015537462651271698 Time 00:00:08\n"
     ]
    }
   ],
   "source": [
    "theta0, theta1, theta2 = np.random.rand(3) * np.pi\n",
    "gradient_fn_theta = qml.grad(q_error, argnum = [0,1,2])\n",
    "\n",
    "lr = 0.46098\n",
    "\n",
    "for epoch in range(101):\n",
    "    gradiente = gradient_fn_theta(theta0, theta1, theta2)\n",
    "    theta0 = theta0 - lr*gradiente[0] \n",
    "    theta1 = theta1 - lr*gradiente[1] \n",
    "    theta2 = theta2 - lr*gradiente[2] \n",
    "    if epoch % 20 == 0:\n",
    "        print(\"epoch\", epoch, \"loss\", q_error(theta0, theta1, theta2),\"Time\",time.strftime(\"%H:%M:%S\",time.gmtime(time.time() - start_time)))\n",
    "        "
   ]
  },
  {
   "cell_type": "code",
   "execution_count": 12,
   "metadata": {},
   "outputs": [
    {
     "data": {
      "image/png": "[encoded data removed]",
      "text/plain": [
       "<Figure size 432x288 with 1 Axes>"
      ]
     },
     "metadata": {
      "needs_background": "light"
     },
     "output_type": "display_data"
    }
   ],
   "source": [
    "def q_solution(x):\n",
    "    return circuit(theta0, x) * theta1 + theta2\n",
    "\n",
    "ys2 = list(map(q_solution, xs))\n",
    "\n",
    "\n",
    "plt.plot(xs,ys, color = \"red\", label = \"classical\")\n",
    "plt.plot(xs, ys2, \"blue\", label = \"quantum\")\n",
    "plt.scatter(xs,ys)\n",
    "plt.ylabel(\"y\")\n",
    "plt.xlabel(\"x\")\n",
    "plt.title('Model regression')\n",
    "plt.legend(loc='upper center', ncol=2, shadow=True)\n",
    "plt.savefig('figs/RegreFunction.png', format='png',bbox_inches='tight',dpi=400)\n",
    "plt.show()"
   ]
  },
  {
   "cell_type": "markdown",
   "metadata": {},
   "source": [
    "# Versions"
   ]
  },
  {
   "cell_type": "code",
   "execution_count": 13,
   "metadata": {},
   "outputs": [
    {
     "name": "stdout",
     "output_type": "stream",
     "text": [
      "python version:  3.7.9\n",
      "pennylane version:  0.23.1\n"
     ]
    }
   ],
   "source": [
    "print(\"python version: \", python_version())\n",
    "print(\"pennylane version: \", qml.__version__)"
   ]
  },
  {
   "cell_type": "markdown",
   "metadata": {},
   "source": [
    "# References"
   ]
  },
  {
   "cell_type": "markdown",
   "metadata": {},
   "source": [
    "\n",
    "1. Qiskit tutorial: https://tinyurl.com/y6mh4bq8"
   ]
  }
 ],
 "metadata": {
  "interpreter": {
   "hash": "67c6e30cc51eeb2c63ed190c851214ed4edf2b99efcdbee63e8aad06437ac09b"
  },
  "kernelspec": {
   "display_name": "Python 3.7.9 ('myEnvPy37')",
   "language": "python",
   "name": "python3"
  },
  "language_info": {
   "codemirror_mode": {
    "name": "ipython",
    "version": 3
   },
   "file_extension": ".py",
   "mimetype": "text/x-python",
   "name": "python",
   "nbconvert_exporter": "python",
   "pygments_lexer": "ipython3",
   "version": "3.7.9"
  }
 },
 "nbformat": 4,
 "nbformat_minor": 2
}
